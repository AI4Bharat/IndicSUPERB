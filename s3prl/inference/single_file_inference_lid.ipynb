{
 "cells": [
  {
   "cell_type": "code",
   "execution_count": null,
   "metadata": {},
   "outputs": [],
   "source": [
    "import torch"
   ]
  },
  {
   "cell_type": "code",
   "execution_count": null,
   "metadata": {},
   "outputs": [],
   "source": [
    "path_to_weights = '/nlsasfs/home/ai4bharat/gramesh/speechteam/superb_env/s3prl/s3prl/result/downstream/lid_indicw2v/valid-best.ckpt'"
   ]
  },
  {
   "cell_type": "code",
   "execution_count": null,
   "metadata": {},
   "outputs": [],
   "source": [
    "z = torch.load(path_to_weights)"
   ]
  },
  {
   "cell_type": "code",
   "execution_count": null,
   "metadata": {},
   "outputs": [],
   "source": [
    "z.keys()"
   ]
  },
  {
   "cell_type": "code",
   "execution_count": 1,
   "metadata": {},
   "outputs": [
    {
     "name": "stderr",
     "output_type": "stream",
     "text": [
      "################################################################################\n",
      "### WARNING, path does not exist: KALDI_ROOT=/mnt/matylda5/iveselyk/Tools/kaldi-trunk\n",
      "###          (please add 'export KALDI_ROOT=<your_path>' in your $HOME/.profile)\n",
      "###          (or run as: KALDI_ROOT=<your_path> python <your_script>.py)\n",
      "################################################################################\n",
      "\n"
     ]
    },
    {
     "name": "stdout",
     "output_type": "stream",
     "text": [
      "[s3prl.upstream.experts] Warning: can not import s3prl.upstream.lighthubert.expert: No module named 'lighthubert'. Pass.\n",
      "[s3prl.hub] Warning: can not import s3prl.upstream.lighthubert.hubconf: No module named 'lighthubert'. Please see upstream/lighthubert/README.md\n",
      "Importing the dtw module. When using in academic works please cite:\n",
      "  T. Giorgino. Computing and Visualizing Dynamic Time Warping Alignments in R: The dtw Package.\n",
      "  J. Stat. Soft., doi:10.18637/jss.v031.i07.\n",
      "\n",
      "[s3prl.downstream.experts] Warning: can not import s3prl.downstream.a2a-vc-vctk.expert: No module named 'resemblyzer'. Pass.\n"
     ]
    }
   ],
   "source": [
    "from inference_runner import Runner"
   ]
  },
  {
   "cell_type": "code",
   "execution_count": 3,
   "metadata": {},
   "outputs": [],
   "source": [
    "config = OmegaConf.create({\n",
    "    'downstream_expert':{\n",
    "        'modelrc':{\n",
    "            'UtteranceLevel':{\n",
    "                'pooling':'MeanPooling'},\n",
    "            'projector_dim':8,\n",
    "            'output_dim':12,\n",
    "            'select': 'UtteranceLevel'}\n",
    "            }})\n",
    "\n",
    "args = OmegaConf.create({\n",
    "    'upstream':'wav2vec2_local',\n",
    "    'upstream_ckpt': '/nlsasfs/home/ai4bharat/gramesh/speechteam/superb_env/pret_models/checkpoint_ft.pt',\n",
    "    'upstream_refresh': 'false',\n",
    "    'init_ckpt':'../result/downstream/lid_indicw2v/valid-best.ckpt',\n",
    "    'device' : 'cuda'\n",
    "    }\n",
    ")"
   ]
  },
  {
   "cell_type": "code",
   "execution_count": 4,
   "metadata": {},
   "outputs": [
    {
     "name": "stdout",
     "output_type": "stream",
     "text": [
      "passed1\n",
      "reaching\n",
      "reaching\n",
      "passed2\n"
     ]
    },
    {
     "name": "stderr",
     "output_type": "stream",
     "text": [
      "[Featurizer] - Warning: None is not a supported args.upstream_feature_selection. Using \"hidden_states\" as the default key.\n",
      "[Featurizer] - Take a list of 25 features and weighted sum them.\n"
     ]
    },
    {
     "name": "stdout",
     "output_type": "stream",
     "text": [
      "[Runner] - Loading Featurizer weights from the previous experiment\n",
      "passed3\n",
      "[Runner] - Loading Downstream weights from the previous experiment\n",
      "passed4\n",
      "passed\n"
     ]
    },
    {
     "name": "stderr",
     "output_type": "stream",
     "text": [
      "[Featurizer] - The selected feature hidden_states's downsample rate is 320\n"
     ]
    }
   ],
   "source": [
    "r = Runner(args=args,config=config)"
   ]
  },
  {
   "cell_type": "code",
   "execution_count": 14,
   "metadata": {},
   "outputs": [],
   "source": [
    "l, _ = r.inference('/nlsasfs/home/ai4bharat/gramesh/speechteam/e2e_data/pilot4_karya/aug_dc_data_raw/dc_data_clean_wav/kannada/test_known/audio/148/844424930348132-148-f.wav')"
   ]
  },
  {
   "cell_type": "code",
   "execution_count": 16,
   "metadata": {},
   "outputs": [
    {
     "data": {
      "text/plain": [
       "tensor(3)"
      ]
     },
     "execution_count": 16,
     "metadata": {},
     "output_type": "execute_result"
    }
   ],
   "source": [
    "l.argmax()"
   ]
  },
  {
   "cell_type": "code",
   "execution_count": 17,
   "metadata": {},
   "outputs": [
    {
     "data": {
      "text/plain": [
       "'kannada'"
      ]
     },
     "execution_count": 17,
     "metadata": {},
     "output_type": "execute_result"
    }
   ],
   "source": [
    "z[l.argmax().item()]"
   ]
  },
  {
   "cell_type": "code",
   "execution_count": 10,
   "metadata": {},
   "outputs": [],
   "source": [
    "import pickle"
   ]
  },
  {
   "cell_type": "code",
   "execution_count": 12,
   "metadata": {},
   "outputs": [],
   "source": [
    "with open('/nlsasfs/home/ai4bharat/gramesh/speechteam/superb_env/s3prl/s3prl/result/downstream/lid_indicw2v/mapping.pkl','rb') as reader:\n",
    "    z = pickle.load(reader)"
   ]
  },
  {
   "cell_type": "code",
   "execution_count": 13,
   "metadata": {},
   "outputs": [
    {
     "data": {
      "text/plain": [
       "{0: 'bengali',\n",
       " 1: 'gujarati',\n",
       " 2: 'hindi',\n",
       " 3: 'kannada',\n",
       " 4: 'malayalam',\n",
       " 5: 'marathi',\n",
       " 6: 'odia',\n",
       " 7: 'punjabi',\n",
       " 8: 'sanskrit',\n",
       " 9: 'tamil',\n",
       " 10: 'telugu',\n",
       " 11: 'urdu'}"
      ]
     },
     "execution_count": 13,
     "metadata": {},
     "output_type": "execute_result"
    }
   ],
   "source": [
    "z"
   ]
  },
  {
   "cell_type": "code",
   "execution_count": null,
   "metadata": {},
   "outputs": [],
   "source": []
  }
 ],
 "metadata": {
  "kernelspec": {
   "display_name": "Python 3.8.13 ('superb_numba': conda)",
   "language": "python",
   "name": "python3"
  },
  "language_info": {
   "codemirror_mode": {
    "name": "ipython",
    "version": 3
   },
   "file_extension": ".py",
   "mimetype": "text/x-python",
   "name": "python",
   "nbconvert_exporter": "python",
   "pygments_lexer": "ipython3",
   "version": "3.8.13"
  },
  "orig_nbformat": 4,
  "vscode": {
   "interpreter": {
    "hash": "23be77cc7cc86e226e378a9276863b1c24910ef910b0a551015fa7c1c8a99f44"
   }
  }
 },
 "nbformat": 4,
 "nbformat_minor": 2
}
